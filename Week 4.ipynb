{
 "cells": [
  {
   "cell_type": "markdown",
   "metadata": {},
   "source": [
    "## About the place : New York"
   ]
  },
  {
   "cell_type": "markdown",
   "metadata": {},
   "source": [
    "The City of New York is the most populous city in the United States.\n",
    "\n",
    "**New York City** witnessed an eighth consecutive annual number of approximately 60 million tourists in 2017 including commuters. Most of the people arriving for tourism purposes are International residents. Major destinations include places such as the  Empire State Building, the Statue of Liberty on Liberty Island, Central Park, Times Square, Museums, luxury shopping along Fifth and Madison Avenues, entertainment events such as the Tribeca Film Festival and free performances on streets.\n",
    "\n",
    "New York City has an area of 783.8 km²."
   ]
  },
  {
   "cell_type": "markdown",
   "metadata": {},
   "source": [
    "<img src=\"freedom-tower.jpg\">"
   ]
  },
  {
   "cell_type": "markdown",
   "metadata": {},
   "source": [
    "## Problem Statement"
   ]
  },
  {
   "cell_type": "markdown",
   "metadata": {},
   "source": [
    "With such a huge popluation of tourists increasing every year, the people visiting the place face a very significant problem as to where to visit fi`rst and how to map their stay in the city and make it most productive in order to eat in good restaurants and enjoy the time in New York City properly."
   ]
  },
  {
   "cell_type": "markdown",
   "metadata": {},
   "source": [
    "The problem can be solved by using Machine Learning Techniques in orde to cluser the places according to their similarities or dissimilarities."
   ]
  },
  {
   "cell_type": "markdown",
   "metadata": {},
   "source": [
    "## Data Sources"
   ]
  },
  {
   "cell_type": "markdown",
   "metadata": {},
   "source": [
    "The Data is acquired by utilising the FourSquare Developer API tools."
   ]
  },
  {
   "cell_type": "markdown",
   "metadata": {},
   "source": [
    "## Data Parameters"
   ]
  },
  {
   "cell_type": "markdown",
   "metadata": {},
   "source": [
    "The Location data will include the following features:\n",
    "    - Venue ID\n",
    "    - Venue Name\n",
    "    - Venue Location\n",
    "    - Likes\n",
    "    - Ratings Given\n",
    "    - Category\n",
    "    - Phrases"
   ]
  },
  {
   "cell_type": "markdown",
   "metadata": {},
   "source": [
    "## Data Clustering Method"
   ]
  },
  {
   "cell_type": "markdown",
   "metadata": {},
   "source": [
    "I will be utilising K-Means Clustering Algorithm for grouping the places which can be used by the tourists for their own specific usages."
   ]
  },
  {
   "cell_type": "code",
   "execution_count": null,
   "metadata": {},
   "outputs": [],
   "source": []
  }
 ],
 "metadata": {
  "kernelspec": {
   "display_name": "Python 3",
   "language": "python",
   "name": "python3"
  },
  "language_info": {
   "codemirror_mode": {
    "name": "ipython",
    "version": 3
   },
   "file_extension": ".py",
   "mimetype": "text/x-python",
   "name": "python",
   "nbconvert_exporter": "python",
   "pygments_lexer": "ipython3",
   "version": "3.7.3"
  }
 },
 "nbformat": 4,
 "nbformat_minor": 2
}
